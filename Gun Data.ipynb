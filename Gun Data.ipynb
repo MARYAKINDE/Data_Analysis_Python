{
 "cells": [
  {
   "cell_type": "code",
   "execution_count": 2,
   "metadata": {},
   "outputs": [
    {
     "name": "stdout",
     "output_type": "stream",
     "text": [
      "Collecting xlrd\n",
      "  Using cached xlrd-2.0.1-py2.py3-none-any.whl (96 kB)\n",
      "Installing collected packages: xlrd\n",
      "Successfully installed xlrd-2.0.1\n"
     ]
    },
    {
     "name": "stderr",
     "output_type": "stream",
     "text": [
      "\n",
      "[notice] A new release of pip available: 22.2.2 -> 24.1.2\n",
      "[notice] To update, run: C:\\Users\\Mary Akinde\\AppData\\Local\\Programs\\Python\\Python310\\python.exe -m pip install --upgrade pip\n"
     ]
    }
   ],
   "source": [
    "#load necessary libraries\n",
    "import pandas as pd\n",
    "import matplotlib.pyplot as plt\n",
    "!pip install xlrd"
   ]
  },
  {
   "cell_type": "code",
   "execution_count": 3,
   "metadata": {},
   "outputs": [
    {
     "name": "stdout",
     "output_type": "stream",
     "text": [
      "    Year        Pop       Vc    Vcr   Manm  Manmr       Rrd  Rrdr    Rld  \\\n",
      "0   1998  270248003  1533887  567.6  16974    6.3       NaN   NaN  93144   \n",
      "1   1999  272690813  1426044  523.0  15522    5.7       NaN   NaN  89411   \n",
      "2   2000  281421906  1425486  506.5  15586    5.5       NaN   NaN  90178   \n",
      "3   2001  285317559  1439480  504.5  16037    5.6       NaN   NaN  90863   \n",
      "4   2002  287973924  1423677  494.4  16229    5.6       NaN   NaN  95235   \n",
      "5   2003  290788976  1383676  475.8  16528    5.7       NaN   NaN  93883   \n",
      "6   2004  293656842  1360088  463.2  16148    5.5       NaN   NaN  95089   \n",
      "7   2005  296507061  1390745  469.0  16740    5.6       NaN   NaN  94347   \n",
      "8   2006  299398484  1435123  479.3  17309    5.8       NaN   NaN  94472   \n",
      "9   2007  301621157  1422970  471.8  17128    5.7       NaN   NaN  92160   \n",
      "10  2008  304059724  1394461  458.6  16465    5.4       NaN   NaN  90750   \n",
      "11  2009  307006550  1325896  431.9  15399    5.0       NaN   NaN  89241   \n",
      "12  2010  309330219  1251248  404.5  14722    4.8       NaN   NaN  85593   \n",
      "13  2011  311587816  1206005  387.1  14661    4.7       NaN   NaN  84175   \n",
      "14  2012  313873685  1217057  387.8  14856    4.7       NaN   NaN  85141   \n",
      "15  2013  316497531  1168298  369.1  14319    4.5  113695.0  35.9  82109   \n",
      "16  2014  318907401  1153022  361.6  14164    4.4  118027.0  37.0  84864   \n",
      "17  2015  320896618  1199310  373.7  15883    4.9  126134.0  39.3  91261   \n",
      "18  2016  323405935  1250162  386.6  17413    5.4  132414.0  40.9  96970   \n",
      "19  2017  325719178  1247321  382.9  17284    5.3  135755.0  41.7  99856   \n",
      "\n",
      "    Rldr  ...      Aa    Aar        Pc     Pcr      Bur   Burr       Lt  \\\n",
      "0   34.5  ...  976583  361.4  10951827  4052.5  2332735  863.2  7376311   \n",
      "1   32.8  ...  911740  334.3  10208334  3743.6  2100739  770.4  6955520   \n",
      "2   32.0  ...  911706  324.0  10182584  3618.3  2050992  728.8  6971590   \n",
      "3   31.8  ...  909023  318.6  10437189  3658.1  2116531  741.8  7092267   \n",
      "4   33.1  ...  891407  309.5  10455277  3630.6  2151252  747.0  7057379   \n",
      "5   32.3  ...  859030  295.4  10442862  3591.2  2154834  741.0  7026802   \n",
      "6   32.4  ...  847381  288.6  10319386  3514.1  2144446  730.3  6937089   \n",
      "7   31.8  ...  862220  290.8  10174754  3431.5  2155448  726.9  6783447   \n",
      "8   31.6  ...  874096  292.0  10019601  3346.6  2194993  733.1  6626363   \n",
      "9   30.6  ...  866358  287.2   9882212  3276.4  2190198  726.1  6591542   \n",
      "10  29.8  ...  843683  277.5   9774152  3214.6  2228887  733.0  6586206   \n",
      "11  29.1  ...  812514  264.7   9337060  3041.3  2203313  717.7  6338095   \n",
      "12  27.7  ...  781844  252.8   9112625  2945.9  2168459  701.0  6204601   \n",
      "13  27.0  ...  752423  241.5   9052743  2905.4  2185140  701.3  6151095   \n",
      "14  27.1  ...  762009  242.8   9001992  2868.0  2109932  672.2  6168874   \n",
      "15  25.9  ...  726777  229.6   8651892  2733.6  1932139  610.5  6019465   \n",
      "16  26.6  ...  731089  229.2   8209010  2574.1  1713153  537.2  5809054   \n",
      "17  28.4  ...  764057  238.1   8024115  2500.5  1587564  494.7  5723488   \n",
      "18  30.0  ...  802982  248.3   7928530  2451.6  1516405  468.9  5644835   \n",
      "19  30.7  ...  810825  248.9   7694086  2362.2  1401840  430.4  5519107   \n",
      "\n",
      "       Ltr      Mvt   Mvtr  \n",
      "0   2729.5  1242781  459.9  \n",
      "1   2550.7  1152075  422.5  \n",
      "2   2477.3  1160002  412.2  \n",
      "3   2485.7  1228391  430.5  \n",
      "4   2450.7  1246646  432.9  \n",
      "5   2416.5  1261226  433.7  \n",
      "6   2362.3  1237851  421.5  \n",
      "7   2287.8  1235859  416.8  \n",
      "8   2213.2  1198245  400.2  \n",
      "9   2185.4  1100472  364.9  \n",
      "10  2166.1   959059  315.4  \n",
      "11  2064.5   795652  259.2  \n",
      "12  2005.8   739565  239.1  \n",
      "13  1974.1   716508  230.0  \n",
      "14  1965.4   723186  230.4  \n",
      "15  1901.9   700288  221.3  \n",
      "16  1821.5   686803  215.4  \n",
      "17  1783.6   713063  222.2  \n",
      "18  1745.4   767290  237.3  \n",
      "19  1694.4   773139  237.4  \n",
      "\n",
      "[20 rows x 22 columns]\n"
     ]
    }
   ],
   "source": [
    "# Read Excel file\n",
    "crimedata = pd.read_excel(\"C:/Users/Mary Akinde/Documents/Modern Statistics/table-1.xls\", usecols=\"A:V\",skiprows=3,nrows=20)\n",
    "# Delete remarks in Year\n",
    "crimedata.loc[3, \"Year\"] = 2001\n",
    "crimedata.loc[18, \"Year\"] = 2016\n",
    "# Specify column names\n",
    "colnames = [\"Year\", \"Pop\", \"Vc\", \"Vcr\", \"Manm\", \"Manmr\", \"Rrd\", \"Rrdr\", \"Rld\", \"Rldr\",\n",
    "          \"Rob\", \"Robr\", \"Aa\", \"Aar\", \"Pc\", \"Pcr\", \"Bur\", \"Burr\", \"Lt\", \"Ltr\", \"Mvt\", \"Mvtr\"]\n",
    "  \n",
    "# Renaming the columns\n",
    "crimedata.columns = colnames\n",
    "\n",
    "# Convert the columns to numeric type\n",
    "crimedata[crimedata.columns] = crimedata[crimedata.columns].apply(pd.to_numeric, errors='coerce')\n",
    "\n",
    "# Print the updated DataFrame with the numeric columns\n",
    "print(crimedata)"
   ]
  }
 ],
 "metadata": {
  "kernelspec": {
   "display_name": "base",
   "language": "python",
   "name": "python3"
  },
  "language_info": {
   "codemirror_mode": {
    "name": "ipython",
    "version": 3
   },
   "file_extension": ".py",
   "mimetype": "text/x-python",
   "name": "python",
   "nbconvert_exporter": "python",
   "pygments_lexer": "ipython3",
   "version": "3.10.9"
  }
 },
 "nbformat": 4,
 "nbformat_minor": 2
}
