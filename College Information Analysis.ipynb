{
 "cells": [
  {
   "cell_type": "code",
   "execution_count": 1,
   "metadata": {},
   "outputs": [
    {
     "name": "stderr",
     "output_type": "stream",
     "text": [
      "C:\\Users\\Mary Akinde\\AppData\\Local\\Temp\\ipykernel_10316\\1414376572.py:3: DtypeWarning: Columns (6,9,1729,1743) have mixed types. Specify dtype option on import or set low_memory=False.\n",
      "  collegedata = pd.read_csv(\"C:/Users/Mary Akinde/Documents/Modern Statistics/MERGED2015_16_PP.csv\", na_values=[\" \", \"NA\", \"NULL\", \"PrivacySuppressed\"])\n"
     ]
    },
    {
     "data": {
      "text/plain": [
       "(7593, 1805)"
      ]
     },
     "execution_count": 1,
     "metadata": {},
     "output_type": "execute_result"
    }
   ],
   "source": [
    "import pandas as pd\n",
    "\n",
    "collegedata = pd.read_csv(\"C:/Users/Mary Akinde/Documents/Modern Statistics/MERGED2015_16_PP.csv\", na_values=[\" \", \"NA\", \"NULL\", \"PrivacySuppressed\"])\n",
    "collegedata.shape"
   ]
  },
  {
   "cell_type": "code",
   "execution_count": 2,
   "metadata": {},
   "outputs": [
    {
     "ename": "NameError",
     "evalue": "name 'plt' is not defined",
     "output_type": "error",
     "traceback": [
      "\u001b[1;31m---------------------------------------------------------------------------\u001b[0m",
      "\u001b[1;31mNameError\u001b[0m                                 Traceback (most recent call last)",
      "Cell \u001b[1;32mIn[2], line 2\u001b[0m\n\u001b[0;32m      1\u001b[0m \u001b[38;5;66;03m## 2a.Make histograms of each of these variables across institutions. Make it so that all of the these are shown together on the same page. You will need to look up how to do this.\u001b[39;00m\n\u001b[1;32m----> 2\u001b[0m \u001b[43mplt\u001b[49m\u001b[38;5;241m.\u001b[39mfigure(figsize\u001b[38;5;241m=\u001b[39m(\u001b[38;5;241m10\u001b[39m, \u001b[38;5;241m10\u001b[39m))\n\u001b[0;32m      4\u001b[0m plt\u001b[38;5;241m.\u001b[39msubplot(\u001b[38;5;241m321\u001b[39m)  \u001b[38;5;66;03m# First subplot in the first row\u001b[39;00m\n\u001b[0;32m      5\u001b[0m plt\u001b[38;5;241m.\u001b[39mhist(collegedata\u001b[38;5;241m.\u001b[39mINC_PCT_LO, edgecolor\u001b[38;5;241m=\u001b[39m\u001b[38;5;124m'\u001b[39m\u001b[38;5;124mred\u001b[39m\u001b[38;5;124m'\u001b[39m, color\u001b[38;5;241m=\u001b[39m\u001b[38;5;124m'\u001b[39m\u001b[38;5;124mblue\u001b[39m\u001b[38;5;124m'\u001b[39m)\n",
      "\u001b[1;31mNameError\u001b[0m: name 'plt' is not defined"
     ]
    }
   ],
   "source": [
    "## 2a.Make histograms of each of these variables across institutions. Make it so that all of the these are shown together on the same page. You will need to look up how to do this.\n",
    "plt.figure(figsize=(10, 10))\n",
    "\n",
    "plt.subplot(321)  # First subplot in the first row\n",
    "plt.hist(collegedata.INC_PCT_LO, edgecolor='red', color='blue')\n",
    "plt.title(\"\\$0-\\$30,000\")\n",
    "plt.xlabel(\"Percent of students in income range\")\n",
    "plt.ylabel(\"Count\")\n",
    "\n",
    "plt.subplot(322)  # Second subplot in the first row\n",
    "plt.hist(collegedata.INC_PCT_M1, edgecolor='red', color='blue')\n",
    "plt.title(\"\\$30,001-\\$48,000\")\n",
    "plt.xlabel(\"Percent of students in income range\")\n",
    "plt.ylabel(\"Count\")\n",
    "\n",
    "plt.subplot(323)  # First subplot in the second row\n",
    "plt.hist(collegedata.INC_PCT_M2, edgecolor='red', color='blue')\n",
    "plt.title(\"\\$48,001-\\$75,000\")\n",
    "plt.xlabel(\"Percent of students in income range\")\n",
    "plt.ylabel(\"Count\")\n",
    "\n",
    "plt.subplot(324)  # Second subplot in the second row\n",
    "plt.hist(collegedata.INC_PCT_H1, edgecolor='red', color='blue')\n",
    "plt.title(\"\\$75,001-\\$110,000\")\n",
    "plt.xlabel(\"Percent of students in income range\")\n",
    "plt.ylabel(\"Count\")\n",
    "\n",
    "plt.subplot(325)  # First subplot in the third row\n",
    "plt.hist(collegedata.INC_PCT_H2, edgecolor='red', color='blue')\n",
    "plt.title(\"\\$110,001 and above\")\n",
    "plt.xlabel(\"Percent of students in income range\")\n",
    "plt.ylabel(\"Count\")\n",
    "\n",
    "plt.tight_layout()  # Adjust the layout to prevent overlapping elements\n",
    "plt.show()\n"
   ]
  }
 ],
 "metadata": {
  "kernelspec": {
   "display_name": "base",
   "language": "python",
   "name": "python3"
  },
  "language_info": {
   "codemirror_mode": {
    "name": "ipython",
    "version": 3
   },
   "file_extension": ".py",
   "mimetype": "text/x-python",
   "name": "python",
   "nbconvert_exporter": "python",
   "pygments_lexer": "ipython3",
   "version": "3.10.9"
  }
 },
 "nbformat": 4,
 "nbformat_minor": 2
}
